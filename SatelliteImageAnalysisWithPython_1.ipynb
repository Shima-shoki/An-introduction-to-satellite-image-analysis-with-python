{
 "cells": [
  {
   "cell_type": "markdown",
   "id": "04d8f9b3",
   "metadata": {},
   "source": [
    "# Basics of python \n",
    "We're going to learn basic operations with python. More details can be found anywhere on the internet!\n",
    "\n",
    "- Data type\n",
    "- Four arithmetic operations\n",
    "- Variables\n",
    "- List, Tuple, Dictionary, and set\n",
    "- Numpy array\n",
    "- Function\n",
    "- Loop"
   ]
  },
  {
   "cell_type": "markdown",
   "id": "c36c476f",
   "metadata": {},
   "source": [
    "## There are four kinds of data types in python.\n",
    "- Integer... 1, 3, -3, 100, etc...\n",
    "- Float... 0.35, 0.22, -0.45. 1.509, etc...\n",
    "- String... \"It's sunny!\", \"Python\", etc...\n",
    "- Complex... 4j, 3+2j, 1+100j, etc...\n",
    "\n",
    "Usual four arithematic operations can be applied to integer, float, and complex. In the case of string type, addition and multiplication will work, but subtraction and division will not.\n",
    "The operators for the four arithematic operations are:\n",
    "- +... Addition\n",
    "- -... Subtraction\n",
    "- *... Multiplication\n",
    "- /... Division"
   ]
  },
  {
   "cell_type": "code",
   "execution_count": 1,
   "id": "07c6ff0f",
   "metadata": {},
   "outputs": [
    {
     "data": {
      "text/plain": [
       "6"
      ]
     },
     "execution_count": 1,
     "metadata": {},
     "output_type": "execute_result"
    }
   ],
   "source": [
    "#Example of four arithematic operations\n",
    "3+3"
   ]
  },
  {
   "cell_type": "code",
   "execution_count": 2,
   "id": "19603540",
   "metadata": {},
   "outputs": [
    {
     "data": {
      "text/plain": [
       "'This is an example of a python code.'"
      ]
     },
     "execution_count": 2,
     "metadata": {},
     "output_type": "execute_result"
    }
   ],
   "source": [
    "#Addition of strings\n",
    "\"This \"+\"is \"+\"an example \"+\"of a python code.\""
   ]
  },
  {
   "cell_type": "code",
   "execution_count": 3,
   "id": "b2c90b72",
   "metadata": {},
   "outputs": [
    {
     "data": {
      "text/plain": [
       "int"
      ]
     },
     "execution_count": 3,
     "metadata": {},
     "output_type": "execute_result"
    }
   ],
   "source": [
    "#We can check the data type by appling type() operator on the values.\n",
    "type(5)"
   ]
  },
  {
   "cell_type": "markdown",
   "id": "c38c3e8d",
   "metadata": {},
   "source": [
    "## If we want to show some outputs, print() operator is used.\n",
    "Usage: print(anything we want to show)"
   ]
  },
  {
   "cell_type": "code",
   "execution_count": 4,
   "id": "f56a2e54",
   "metadata": {},
   "outputs": [
    {
     "data": {
      "text/plain": [
       "2.5"
      ]
     },
     "execution_count": 4,
     "metadata": {},
     "output_type": "execute_result"
    }
   ],
   "source": [
    "#Without print() operater\n",
    "#Only the last value is shown.\n",
    "5+5\n",
    "3-2\n",
    "4*3\n",
    "5/2"
   ]
  },
  {
   "cell_type": "code",
   "execution_count": 5,
   "id": "8812fa5e",
   "metadata": {},
   "outputs": [
    {
     "name": "stdout",
     "output_type": "stream",
     "text": [
      "10\n",
      "1\n",
      "12\n",
      "2.5\n"
     ]
    }
   ],
   "source": [
    "#With print() operater\n",
    "#All the outputs are shown now.\n",
    "print(5+5)\n",
    "print(3-2)\n",
    "print(4*3)\n",
    "print(5/2)"
   ]
  },
  {
   "cell_type": "markdown",
   "id": "cd1abac6",
   "metadata": {},
   "source": [
    "## Variables\n",
    "Values can be assigned to variables. We can change the value that a variable holds at any time."
   ]
  },
  {
   "cell_type": "code",
   "execution_count": 6,
   "id": "d0c42166",
   "metadata": {},
   "outputs": [
    {
     "name": "stdout",
     "output_type": "stream",
     "text": [
      "3\n"
     ]
    }
   ],
   "source": [
    "#Assign a value to a variable\n",
    "x=3\n",
    "print(x)"
   ]
  },
  {
   "cell_type": "code",
   "execution_count": 7,
   "id": "66baa14f",
   "metadata": {},
   "outputs": [
    {
     "name": "stdout",
     "output_type": "stream",
     "text": [
      "5\n"
     ]
    }
   ],
   "source": [
    "#Change the value that x ho;ds from 3 to 5\n",
    "x=5\n",
    "print(5)"
   ]
  },
  {
   "cell_type": "markdown",
   "id": "c8a04838",
   "metadata": {},
   "source": [
    "## List, tuple, dictionary, and set\n",
    "Those are used to store more than one value. List, tuple, and dictionary are very much commonly used.\n",
    "- **list** [value1, value2...] : We can store or remove any types of values. \n",
    "- **tuple** (value1, value2...) : We can't remove or add values once it's formed.\n",
    "- **dictionary** {\"Name of value1\": value1, \"Name of value2\": value2...} : Each elements can be accessed by specifing the name of it.\n",
    "- set {value1, value2...} : Similar to the list, but duplicated values are not allowed. \n",
    "\n",
    "The elements in list or tuple can be accessed by specifying the location by integers. **The python starts counting from 0.** <br>\n",
    "If we want to know what a data type is, type() operatior tells us that information."
   ]
  },
  {
   "cell_type": "code",
   "execution_count": 3,
   "id": "26e20aa3",
   "metadata": {},
   "outputs": [
    {
     "name": "stdout",
     "output_type": "stream",
     "text": [
      "[1, 2, 3, 4]\n",
      "<class 'list'>\n"
     ]
    }
   ],
   "source": [
    "#List\n",
    "list_example=[1,2,3,4]\n",
    "print(list_example)\n",
    "print(type(list_example))"
   ]
  },
  {
   "cell_type": "code",
   "execution_count": 4,
   "id": "48b66406",
   "metadata": {},
   "outputs": [
    {
     "data": {
      "text/plain": [
       "[1, 2, 3, 4, 5]"
      ]
     },
     "execution_count": 4,
     "metadata": {},
     "output_type": "execute_result"
    }
   ],
   "source": [
    "#We can add values to a list by using \".append()\".\n",
    "list_example.append(5) #\"5\" is added to the end of the list.\n",
    "list_example"
   ]
  },
  {
   "cell_type": "code",
   "execution_count": 9,
   "id": "b61baefa",
   "metadata": {},
   "outputs": [
    {
     "name": "stdout",
     "output_type": "stream",
     "text": [
      "(1, 2, 3, 4)\n",
      "<class 'tuple'>\n"
     ]
    }
   ],
   "source": [
    "#Tuple\n",
    "tuple_example=(1,2,3,4)\n",
    "print(tuple_example)\n",
    "print(type(tuple_example))"
   ]
  },
  {
   "cell_type": "code",
   "execution_count": 10,
   "id": "4870794b",
   "metadata": {},
   "outputs": [
    {
     "name": "stdout",
     "output_type": "stream",
     "text": [
      "{'a': [1, 2], 'b': [3, 4], 'c': [5, 6]}\n",
      "[1, 2]\n",
      "<class 'dict'>\n"
     ]
    }
   ],
   "source": [
    "#dictionary\n",
    "dictionary_example={\"a\":[1,2],\"b\":[3,4],\"c\":[5,6]}\n",
    "print(dictionary_example)\n",
    "print(dictionary_example[\"a\"])\n",
    "print(type(dictionary_example))"
   ]
  },
  {
   "cell_type": "code",
   "execution_count": 11,
   "id": "feada8b2",
   "metadata": {},
   "outputs": [
    {
     "name": "stdout",
     "output_type": "stream",
     "text": [
      "{1, 2, 3, 4}\n",
      "<class 'set'>\n"
     ]
    }
   ],
   "source": [
    "#set\n",
    "set_example={1,2,3,4}\n",
    "print(set_example)\n",
    "print(type(set_example))"
   ]
  },
  {
   "cell_type": "code",
   "execution_count": 12,
   "id": "e8de5919",
   "metadata": {},
   "outputs": [
    {
     "name": "stdout",
     "output_type": "stream",
     "text": [
      "1\n",
      "3\n"
     ]
    }
   ],
   "source": [
    "#Access the elements of the list.\n",
    "#Same for the tuple.\n",
    "print(list_example[0]) #The first element\n",
    "print(list_example[2]) #The third element"
   ]
  },
  {
   "cell_type": "markdown",
   "id": "8959a963",
   "metadata": {},
   "source": [
    "## Numpy array\n",
    "The numpy array is one of the most important concepts in python. Once we convert data into numpy array format, almost all the operations can be applied. It is similar to a usual matrix we learn in linear algebra.\n",
    "We use numpy module to make a numpy array. The numpy module is a collection of mathematical operations we use in python. \"np\" is the usual notation of numpy module. "
   ]
  },
  {
   "cell_type": "code",
   "execution_count": 13,
   "id": "639c1484",
   "metadata": {},
   "outputs": [],
   "source": [
    "#Import the numpy module as a name of \"np\".\n",
    "import numpy as np"
   ]
  },
  {
   "cell_type": "code",
   "execution_count": 14,
   "id": "a4457da7",
   "metadata": {},
   "outputs": [
    {
     "name": "stdout",
     "output_type": "stream",
     "text": [
      "[[ 1  2  3  4]\n",
      " [ 5  6  7  8]\n",
      " [ 9 10 11 12]]\n",
      "<class 'numpy.ndarray'>\n"
     ]
    }
   ],
   "source": [
    "numpyArray_example=np.array([[1,2,3,4],\n",
    "                            [5,6,7,8],\n",
    "                            [9,10,11,12]])\n",
    "print(numpyArray_example)\n",
    "print(type(numpyArray_example))"
   ]
  },
  {
   "cell_type": "code",
   "execution_count": 15,
   "id": "de0615d8",
   "metadata": {},
   "outputs": [
    {
     "name": "stdout",
     "output_type": "stream",
     "text": [
      "(3, 4)\n"
     ]
    }
   ],
   "source": [
    "#We can see the dimension of a numpy aray by using .shape suffix to the array.\n",
    "print(numpyArray_example.shape) # The output of (3,4) means that the array has three rows and four columns."
   ]
  },
  {
   "cell_type": "code",
   "execution_count": 16,
   "id": "82c8d105",
   "metadata": {},
   "outputs": [
    {
     "name": "stdout",
     "output_type": "stream",
     "text": [
      "7\n"
     ]
    }
   ],
   "source": [
    "#The elements inside the array can be accessed by specifing the coordinate of it.\n",
    "#Be careful that the python starts counting from 0, so the coordinate of the upper left corner of the array is (0,0),\n",
    "print(numpyArray_example[1,2]) #The output is in the second row and the third column."
   ]
  },
  {
   "cell_type": "markdown",
   "id": "f9f576c3",
   "metadata": {},
   "source": [
    "Addition or subtraction among numpy arrays is possible as a similar way to the usual linear algebra. Multiplication and division of numpy arrays by a scalar is also valid.  "
   ]
  },
  {
   "cell_type": "code",
   "execution_count": 17,
   "id": "b5b8946f",
   "metadata": {},
   "outputs": [
    {
     "name": "stdout",
     "output_type": "stream",
     "text": [
      "[[3 3 3]\n",
      " [5 5 5]]\n",
      "[[-1 -1 -1]\n",
      " [-1 -1 -1]]\n"
     ]
    }
   ],
   "source": [
    "#Addition of two numpy arrays.\n",
    "array_A=np.array([[1,1,1],\n",
    "                 [2,2,2]])\n",
    "array_B=np.array([[2,2,2],\n",
    "                 [3,3,3]])\n",
    "\n",
    "array_C=array_A+array_B \n",
    "array_D=array_A-array_B \n",
    "print(array_C)\n",
    "print(array_D)"
   ]
  },
  {
   "cell_type": "code",
   "execution_count": 18,
   "id": "8782c2ef",
   "metadata": {},
   "outputs": [
    {
     "name": "stdout",
     "output_type": "stream",
     "text": [
      "[[3 3 3]\n",
      " [6 6 6]]\n"
     ]
    }
   ],
   "source": [
    "#Multiplication of a numpy array.\n",
    "array_E=3*array_A\n",
    "print(array_E) #All the elements of array_A is multiplicated with a facor of three."
   ]
  },
  {
   "cell_type": "markdown",
   "id": "683859be",
   "metadata": {},
   "source": [
    "## Function\n",
    "We can define a function as a collection of operations we want to apply to numbers, lists, numpy arrays, and so on. Since python uses indent as a way of constructing tools of programs, we need to be very careful with the indentation.\n",
    "\n",
    "### The basic form of a function in python is:\n",
    "def [function name](variable name):<br>\n",
    "(indent) operations"
   ]
  },
  {
   "cell_type": "code",
   "execution_count": 19,
   "id": "9e132d4e",
   "metadata": {},
   "outputs": [],
   "source": [
    "#Define a function that returs a a value multiplied by a factor of 2 of an input value.\n",
    "def function_example(x):\n",
    "    y=2*x #Calculate an output (y) as a value multiplied by a factor of 2 of an input value (x).\n",
    "    return y #Return y as an output of the function."
   ]
  },
  {
   "cell_type": "code",
   "execution_count": 20,
   "id": "90b466ad",
   "metadata": {},
   "outputs": [
    {
     "name": "stdout",
     "output_type": "stream",
     "text": [
      "8\n"
     ]
    }
   ],
   "source": [
    "output=function_example(4)\n",
    "print(output) #8=2*4"
   ]
  },
  {
   "cell_type": "code",
   "execution_count": 21,
   "id": "4e709056",
   "metadata": {},
   "outputs": [],
   "source": [
    "#We can use any notations as input values for a function. \n",
    "#Input values more than one are also possible.\n",
    "def function_multipleInputs_example(x1,x2):\n",
    "    y=x1*x2 #Calculate a product of input values.\n",
    "    return y"
   ]
  },
  {
   "cell_type": "code",
   "execution_count": 22,
   "id": "e744591d",
   "metadata": {},
   "outputs": [
    {
     "name": "stdout",
     "output_type": "stream",
     "text": [
      "6\n"
     ]
    }
   ],
   "source": [
    "output=function_multipleInputs_example(2,3)\n",
    "print(output) #6=2*3"
   ]
  },
  {
   "cell_type": "markdown",
   "id": "5c395d6c",
   "metadata": {},
   "source": [
    "## Loop\n",
    "A loop, or for-loop is used when we want to automate operations. Python is known to be very slow when we use too many loops, so the loop operations shoudn't be combined too much.\n",
    "\n",
    "### The basic form of a loop in python is:\n",
    "for (index) in (the target values of index):<br>\n",
    "(indent) operations\n",
    "\n",
    "If the target values of index is a sequens of values, range() operation is useful. It returns a sequence of values from the start to the end. Be careful of setting the end value since **the end value itself is not included in the sequence**.<br>\n",
    "**How to use**: range(start, end, step) \n",
    "If the start value and step value are not set, they are assumued to be 0 and 1, respectively."
   ]
  },
  {
   "cell_type": "code",
   "execution_count": 23,
   "id": "c7c9364d",
   "metadata": {},
   "outputs": [
    {
     "name": "stdout",
     "output_type": "stream",
     "text": [
      "0\n",
      "3\n",
      "6\n",
      "9\n",
      "12\n",
      "15\n",
      "18\n",
      "21\n"
     ]
    }
   ],
   "source": [
    "#Define a loop that returns a sequence of integers multiplied by a factor of 3.\n",
    "#\"i\" is a common notation of the index.\n",
    "valueList=[0,1,2,3,4,5,6,7]\n",
    "for i in valueList:\n",
    "    y=3*i\n",
    "    print(y)"
   ]
  },
  {
   "cell_type": "code",
   "execution_count": 24,
   "id": "d2768662",
   "metadata": {},
   "outputs": [
    {
     "name": "stdout",
     "output_type": "stream",
     "text": [
      "0\n",
      "3\n",
      "6\n",
      "9\n",
      "12\n",
      "15\n",
      "18\n",
      "21\n"
     ]
    }
   ],
   "source": [
    "#Same loop as the precious example.\n",
    "for i in range(0,8): #The end value is set to \"8\" since we want to get a sequence of integers from 0 to 7.\n",
    "    y=3*i\n",
    "    print(y)"
   ]
  },
  {
   "cell_type": "markdown",
   "id": "22ae787d",
   "metadata": {},
   "source": [
    "#### In the next tutorial, we'll learn how to handle satellite products with python."
   ]
  }
 ],
 "metadata": {
  "kernelspec": {
   "display_name": "Python 3",
   "language": "python",
   "name": "python3"
  },
  "language_info": {
   "codemirror_mode": {
    "name": "ipython",
    "version": 3
   },
   "file_extension": ".py",
   "mimetype": "text/x-python",
   "name": "python",
   "nbconvert_exporter": "python",
   "pygments_lexer": "ipython3",
   "version": "3.7.10"
  }
 },
 "nbformat": 4,
 "nbformat_minor": 5
}
